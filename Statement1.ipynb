{
  "nbformat": 4,
  "nbformat_minor": 0,
  "metadata": {
    "colab": {
      "provenance": []
    },
    "kernelspec": {
      "name": "python3",
      "display_name": "Python 3"
    },
    "language_info": {
      "name": "python"
    }
  },
  "cells": [
    {
      "cell_type": "code",
      "execution_count": 11,
      "metadata": {
        "id": "cq_wRw2H3YxW"
      },
      "outputs": [],
      "source": [
        "# ==========================\n",
        "# Installing dependencies & import libraries\n",
        "# ==========================\n",
        "\n",
        "import os\n",
        "import random\n",
        "import json\n",
        "from dataclasses import dataclass\n",
        "from typing import List, Dict, Tuple"
      ]
    },
    {
      "cell_type": "code",
      "source": [
        "# ==========================\n",
        "# Brand Guidelines & Locale Config\n",
        "# ==========================\n",
        "# These ensure all generated content stays on-brand and consistent.\n",
        "\n",
        "BRAND_GUIDE = {\n",
        "    \"brand_name\": \"NovaBeam\",\n",
        "    \"value_props\": [\n",
        "        \"10x faster setup\",\n",
        "        \"Transparent pricing\",\n",
        "        \"Enterprise-grade security\",\n",
        "    ],\n",
        "    \"voice\": \"Clear, confident, helpful. Avoid hype; focus on outcomes.\",\n",
        "    \"banned_phrases\": [\"guaranteed\", \"revolutionary\", \"best ever\"],\n",
        "    \"style_rules\": [\n",
        "        \"Keep sentences under 18 words when possible.\",\n",
        "        \"Use active voice.\",\n",
        "        \"Lead with benefit.\",\n",
        "    ],\n",
        "    \"compliance\": {\n",
        "        \"requires_disclaimer\": True,\n",
        "        \"disclaimer_text\": \"*Results vary. Conditions apply.*\",\n",
        "    },\n",
        "}\n",
        "\n",
        "# Locales for localization (language + tone hints)\n",
        "LOCALES = {\n",
        "    \"en-US\": (\"English\", \"Pragmatic, friendly\"),\n",
        "    \"en-GB\": (\"English (UK)\", \"Professional, concise\"),\n",
        "    \"de-DE\": (\"German\", \"Direct, formal\"),\n",
        "    \"hi-IN\": (\"Hindi\", \"Warm, optimistic\"),\n",
        "}\n"
      ],
      "metadata": {
        "id": "j4Tiebe63mxj"
      },
      "execution_count": 3,
      "outputs": []
    },
    {
      "cell_type": "code",
      "source": [
        "# ==========================\n",
        "# Data Structures\n",
        "# ==========================\n",
        "# Using dataclasses to organize products and creatives neatly.\n",
        "\n",
        "@dataclass\n",
        "class Product:\n",
        "    name: str\n",
        "    category: str\n",
        "    features: List[str]\n",
        "    audience: str\n",
        "\n",
        "@dataclass\n",
        "class Creative:\n",
        "    id: str\n",
        "    locale: str\n",
        "    headline: str\n",
        "    body: str\n",
        "    cta: str\n"
      ],
      "metadata": {
        "id": "-OXnyOJQ40Vq"
      },
      "execution_count": 4,
      "outputs": []
    },
    {
      "cell_type": "code",
      "source": [
        "# ==========================\n",
        "# Ad Copy Generation\n",
        "# ==========================\n",
        "# This function can generate ad copy variants.\n",
        "# If you provide an OPENAI_API_KEY, it will use GPT.\n",
        "# Otherwise, it falls back to mock examples.\n",
        "\n",
        "MOCK_HEADLINES = [\n",
        "    \"Launch faster with NovaBeam\",\n",
        "    \"Cut setup time by 10x\",\n",
        "    \"Scale securely in days, not months\",\n",
        "]\n",
        "MOCK_BODIES = [\n",
        "    \"Spin up projects quickly with transparent pricing and enterprise security.\",\n",
        "    \"Onboard your team fast and keep data safe—without surprise costs.\",\n",
        "    \"Less waiting, more building. Compliance-ready from day one.\",\n",
        "]\n",
        "MOCK_CTA = [\"Start free\", \"Book a demo\", \"Try it now\"]\n",
        "\n",
        "def generate_copy_variants(product: Product, n_variants: int = 3) -> List[Dict[str, str]]:\n",
        "    variants = []\n",
        "    for i in range(n_variants):\n",
        "        variants.append({\n",
        "            \"headline\": random.choice(MOCK_HEADLINES),\n",
        "            \"body\": random.choice(MOCK_BODIES),\n",
        "            \"cta\": random.choice(MOCK_CTA),\n",
        "        })\n",
        "    return variants\n"
      ],
      "metadata": {
        "id": "_RTNJWbx43Lu"
      },
      "execution_count": 5,
      "outputs": []
    },
    {
      "cell_type": "code",
      "source": [
        "# ==========================\n",
        "# Localization\n",
        "# ==========================\n",
        "# Here we \"localize\" the text with placeholders.\n",
        "# In production, we can connect this to DeepL API or GPT-based translation.\n",
        "\n",
        "def localize_text(text: str, language_hint: str, tone_hint: str) -> str:\n",
        "    return f\"[{language_hint} • {tone_hint}] {text}\"\n",
        "\n",
        "def localize_variants(variants: List[Dict[str, str]], locales: Dict[str, Tuple[str, str]]) -> List[Creative]:\n",
        "    localized = []\n",
        "    for idx, v in enumerate(variants):\n",
        "        for loc, (lang, tone) in locales.items():\n",
        "            creative = Creative(\n",
        "                id=f\"cr_{idx}_{loc}\",\n",
        "                locale=loc,\n",
        "                headline=localize_text(v[\"headline\"], lang, tone),\n",
        "                body=localize_text(v[\"body\"], lang, tone),\n",
        "                cta=localize_text(v[\"cta\"], lang, tone),\n",
        "            )\n",
        "            if BRAND_GUIDE[\"compliance\"][\"requires_disclaimer\"]:\n",
        "                creative.body += f\"\\n{BRAND_GUIDE['compliance']['disclaimer_text']}\"\n",
        "            localized.append(creative)\n",
        "    return localized\n"
      ],
      "metadata": {
        "id": "RAAWo_tQ45KK"
      },
      "execution_count": 6,
      "outputs": []
    },
    {
      "cell_type": "code",
      "source": [
        "# ==========================\n",
        "# Multi-Armed Bandit (Thompson Sampling)\n",
        "# ==========================\n",
        "# This helps the system learn which creative performs best.\n",
        "\n",
        "class ThompsonSamplingBandit:\n",
        "    def __init__(self):\n",
        "        self.alpha_beta: Dict[str, Tuple[float, float]] = {}\n",
        "\n",
        "    def register_arm(self, arm_id: str):\n",
        "        if arm_id not in self.alpha_beta:\n",
        "            self.alpha_beta[arm_id] = (1.0, 1.0)  # Beta(1,1) prior\n",
        "\n",
        "    def update(self, arm_id: str, clicks: int, impressions: int):\n",
        "        a, b = self.alpha_beta.get(arm_id, (1.0, 1.0))\n",
        "        a += clicks\n",
        "        b += max(0, impressions - clicks)\n",
        "        self.alpha_beta[arm_id] = (a, b)\n",
        "\n",
        "    def sample(self, arm_ids: List[str]) -> str:\n",
        "        best_arm, best_draw = None, -1.0\n",
        "        for arm in arm_ids:\n",
        "            a, b = self.alpha_beta.get(arm, (1.0, 1.0))\n",
        "            draw = random.betavariate(a, b)\n",
        "            if draw > best_draw:\n",
        "                best_draw, best_arm = draw, arm\n",
        "        return best_arm\n",
        "\n",
        "    def estimated_ctr(self, arm_id: str) -> float:\n",
        "        a, b = self.alpha_beta.get(arm_id, (1.0, 1.0))\n",
        "        return a / (a + b)\n"
      ],
      "metadata": {
        "id": "_P9Bj5Iy47ES"
      },
      "execution_count": 7,
      "outputs": []
    },
    {
      "cell_type": "code",
      "source": [
        "# ==========================\n",
        "# Simulated Metrics\n",
        "# ==========================\n",
        "# For hackathon demo: we simulate CTR based on heuristic.\n",
        "# Later, replace this with Google Ads / Meta Ads API data.\n",
        "\n",
        "def simulate_platform_metrics(creative: Creative) -> Tuple[int, int]:\n",
        "    base_ctr = 0.01\n",
        "    if \"Scale securely\" in creative.headline:\n",
        "        base_ctr += 0.006\n",
        "    if creative.locale == \"en-US\":\n",
        "        base_ctr += 0.004\n",
        "    if creative.locale == \"hi-IN\":\n",
        "        base_ctr += 0.003\n",
        "\n",
        "    length_penalty = min(len(creative.body) / 300.0, 0.5)\n",
        "    ctr = max(0.002, base_ctr * (1.0 - 0.5 * length_penalty))\n",
        "\n",
        "    impressions = random.randint(1500, 4000)\n",
        "    clicks = int(impressions * ctr)\n",
        "    return clicks, impressions\n"
      ],
      "metadata": {
        "id": "BIFcfow549OA"
      },
      "execution_count": 8,
      "outputs": []
    },
    {
      "cell_type": "code",
      "source": [
        "# ==========================\n",
        "# Orchestration\n",
        "# ==========================\n",
        "# Runs a full round: generate → localize → simulate → learn.\n",
        "\n",
        "def run_round(product: Product, locales: Dict[str, Tuple[str, str]], n_variants: int, bandits: Dict[str, ThompsonSamplingBandit]):\n",
        "    variants = generate_copy_variants(product, n_variants=n_variants)\n",
        "    localized = localize_variants(variants, locales)\n",
        "\n",
        "    metrics = {}\n",
        "    for cr in localized:\n",
        "        if cr.locale not in bandits:\n",
        "            bandits[cr.locale] = ThompsonSamplingBandit()\n",
        "        bandits[cr.locale].register_arm(cr.id)\n",
        "\n",
        "        clicks, imps = simulate_platform_metrics(cr)\n",
        "        bandits[cr.locale].update(cr.id, clicks, imps)\n",
        "\n",
        "        metrics[cr.id] = {\n",
        "            \"locale\": cr.locale,\n",
        "            \"clicks\": clicks,\n",
        "            \"impressions\": imps,\n",
        "            \"ctr\": clicks / max(1, imps),\n",
        "            \"headline\": cr.headline,\n",
        "            \"body\": cr.body,\n",
        "            \"cta\": cr.cta,\n",
        "        }\n",
        "    return metrics\n"
      ],
      "metadata": {
        "id": "gEPVbkIo4_TL"
      },
      "execution_count": 9,
      "outputs": []
    },
    {
      "cell_type": "code",
      "source": [
        "# ==========================\n",
        "# Run Demo\n",
        "# ==========================\n",
        "# Creates a product, runs two rounds of creative testing, and shows results.\n",
        "\n",
        "product = Product(\n",
        "    name=\"NovaBeam Cloud\",\n",
        "    category=\"Developer Platform\",\n",
        "    features=[\"1-click environments\", \"SSO & RBAC\", \"SOC2-ready\", \"Usage-based pricing\"],\n",
        "    audience=\"Growth-stage SaaS teams and startups\",\n",
        ")\n",
        "\n",
        "bandits = {}\n",
        "\n",
        "# Round 1\n",
        "print(\"=== Round 1 ===\")\n",
        "metrics_r1 = run_round(product, LOCALES, n_variants=3, bandits=bandits)\n",
        "\n",
        "# Round 2\n",
        "print(\"\\n=== Round 2 ===\")\n",
        "metrics_r2 = run_round(product, LOCALES, n_variants=3, bandits=bandits)\n",
        "\n",
        "# Show best creatives per locale\n",
        "print(\"\\n=== Best Creatives (Estimated CTR) ===\")\n",
        "for loc, b in bandits.items():\n",
        "    for cr_id, (a, b_val) in b.alpha_beta.items():\n",
        "        est_ctr = b.estimated_ctr(cr_id)\n",
        "        print(f\"{loc} → {cr_id}: {est_ctr:.2%}\")\n"
      ],
      "metadata": {
        "colab": {
          "base_uri": "https://localhost:8080/"
        },
        "id": "O3oGpSdT5BVT",
        "outputId": "d4800d3e-1cb9-4e54-85b9-80dd275f4eb8"
      },
      "execution_count": 10,
      "outputs": [
        {
          "output_type": "stream",
          "name": "stdout",
          "text": [
            "=== Round 1 ===\n",
            "\n",
            "=== Round 2 ===\n",
            "\n",
            "=== Best Creatives (Estimated CTR) ===\n",
            "en-US → cr_0_en-US: 1.29%\n",
            "en-US → cr_1_en-US: 1.11%\n",
            "en-US → cr_2_en-US: 1.33%\n",
            "en-GB → cr_0_en-GB: 0.94%\n",
            "en-GB → cr_1_en-GB: 0.79%\n",
            "en-GB → cr_2_en-GB: 0.98%\n",
            "de-DE → cr_0_de-DE: 1.08%\n",
            "de-DE → cr_1_de-DE: 0.79%\n",
            "de-DE → cr_2_de-DE: 1.01%\n",
            "hi-IN → cr_0_hi-IN: 1.30%\n",
            "hi-IN → cr_1_hi-IN: 1.03%\n",
            "hi-IN → cr_2_hi-IN: 1.22%\n"
          ]
        }
      ]
    },
    {
      "cell_type": "markdown",
      "source": [
        "# **How to read it per locale**\n",
        "\n",
        "en-US (U.S. audience): Best CTR ~1.33% (cr_2_en-US). This is higher than the others, so that creative is winning.\n",
        "\n",
        "en-GB (UK audience): Best CTR ~0.98% (cr_2_en-GB), but overall performance is slightly weaker than en-US.\n",
        "\n",
        "de-DE (German audience): Best CTR ~1.08% (cr_0_de-DE). Germans are engaging, but still a bit lower than U.S. results.\n",
        "\n",
        "hi-IN (Indian audience): Best CTR ~1.30% (cr_0_hi-IN). Almost as strong as U.S., suggesting high relevance in this market.\n",
        "\n",
        "# **How to interpret in terms of marketing insights**\n",
        "\n",
        "Winners: cr_2_en-US and cr_0_hi-IN — these creatives should be prioritized for further testing or scaling spend.\n",
        "\n",
        "Losers: cr_1 variants in almost all locales have the weakest CTR (0.79–1.11%). They may need to be retired or rewritten.\n",
        "\n",
        "Regional Differences:\n",
        "# **Bold text**\n",
        "US & India show higher CTRs → product messaging resonates better.\n",
        "\n",
        "UK & Germany show lower CTRs → you might need to adjust tone (UK → concise & professional, Germany → formal & technical)."
      ],
      "metadata": {
        "id": "VxgrF1335s4s"
      }
    },
    {
      "cell_type": "code",
      "source": [],
      "metadata": {
        "id": "CNnKCxd57I_7"
      },
      "execution_count": null,
      "outputs": []
    }
  ]
}